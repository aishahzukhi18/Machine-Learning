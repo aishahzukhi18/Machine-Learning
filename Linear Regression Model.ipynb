{
 "cells": [
  {
   "cell_type": "code",
   "execution_count": 1,
   "metadata": {},
   "outputs": [],
   "source": [
    "import numpy as np\n",
    "import pandas as pd \n",
    "import matplotlib.pyplot as plt\n",
    "import sklearn.linear_model\n",
    "import sklearn.metrics\n",
    "import sklearn.preprocessing\n"
   ]
  },
  {
   "cell_type": "code",
   "execution_count": 2,
   "metadata": {},
   "outputs": [
    {
     "data": {
      "text/html": [
       "<div>\n",
       "<style scoped>\n",
       "    .dataframe tbody tr th:only-of-type {\n",
       "        vertical-align: middle;\n",
       "    }\n",
       "\n",
       "    .dataframe tbody tr th {\n",
       "        vertical-align: top;\n",
       "    }\n",
       "\n",
       "    .dataframe thead th {\n",
       "        text-align: right;\n",
       "    }\n",
       "</style>\n",
       "<table border=\"1\" class=\"dataframe\">\n",
       "  <thead>\n",
       "    <tr style=\"text-align: right;\">\n",
       "      <th></th>\n",
       "      <th>TV</th>\n",
       "      <th>radio</th>\n",
       "      <th>newspaper</th>\n",
       "      <th>sales</th>\n",
       "    </tr>\n",
       "  </thead>\n",
       "  <tbody>\n",
       "    <tr>\n",
       "      <th>1</th>\n",
       "      <td>230.1</td>\n",
       "      <td>37.8</td>\n",
       "      <td>69.2</td>\n",
       "      <td>22.1</td>\n",
       "    </tr>\n",
       "    <tr>\n",
       "      <th>2</th>\n",
       "      <td>44.5</td>\n",
       "      <td>39.3</td>\n",
       "      <td>45.1</td>\n",
       "      <td>10.4</td>\n",
       "    </tr>\n",
       "    <tr>\n",
       "      <th>3</th>\n",
       "      <td>17.2</td>\n",
       "      <td>45.9</td>\n",
       "      <td>69.3</td>\n",
       "      <td>9.3</td>\n",
       "    </tr>\n",
       "    <tr>\n",
       "      <th>4</th>\n",
       "      <td>151.5</td>\n",
       "      <td>41.3</td>\n",
       "      <td>58.5</td>\n",
       "      <td>18.5</td>\n",
       "    </tr>\n",
       "    <tr>\n",
       "      <th>5</th>\n",
       "      <td>180.8</td>\n",
       "      <td>10.8</td>\n",
       "      <td>58.4</td>\n",
       "      <td>12.9</td>\n",
       "    </tr>\n",
       "  </tbody>\n",
       "</table>\n",
       "</div>"
      ],
      "text/plain": [
       "      TV  radio  newspaper  sales\n",
       "1  230.1   37.8       69.2   22.1\n",
       "2   44.5   39.3       45.1   10.4\n",
       "3   17.2   45.9       69.3    9.3\n",
       "4  151.5   41.3       58.5   18.5\n",
       "5  180.8   10.8       58.4   12.9"
      ]
     },
     "execution_count": 2,
     "metadata": {},
     "output_type": "execute_result"
    }
   ],
   "source": [
    "sales = pd.read_csv('Advertising.csv', index_col=0)\n",
    "sales.head()"
   ]
  },
  {
   "cell_type": "code",
   "execution_count": 3,
   "metadata": {},
   "outputs": [],
   "source": [
    "from sklearn.linear_model import LinearRegression\n",
    "model = LinearRegression(fit_intercept = True)"
   ]
  },
  {
   "cell_type": "code",
   "execution_count": 4,
   "metadata": {},
   "outputs": [
    {
     "name": "stdout",
     "output_type": "stream",
     "text": [
      "TV intercept : 7.0326\n",
      "TV slope     : 0.0475 \n"
     ]
    },
    {
     "data": {
      "image/png": "[encoded data removed]",
      "text/plain": [
       "<Figure size 432x288 with 1 Axes>"
      ]
     },
     "metadata": {
      "needs_background": "light"
     },
     "output_type": "display_data"
    }
   ],
   "source": [
    "x = sales[['TV']]     #convert to 2D\n",
    "y = sales['sales']\n",
    "model.fit(x, y)\n",
    "\n",
    "print(\"TV intercept : {:.4f}\".format(model.intercept_))\n",
    "print(\"TV slope     : {:.4f} \".format(model.coef_[0]))\n",
    "\n",
    "sales.plot.scatter(x='TV', y='sales')\n",
    "plt.plot(x, model.predict(x), c='red')\n",
    "plt.show();"
   ]
  },
  {
   "cell_type": "code",
   "execution_count": 5,
   "metadata": {},
   "outputs": [
    {
     "name": "stdout",
     "output_type": "stream",
     "text": [
      "MSE for TV      : 10.5127\n",
      "R2 Score for TV : 0.6119\n"
     ]
    }
   ],
   "source": [
    "from sklearn.metrics import mean_squared_error\n",
    "from sklearn.metrics import r2_score\n",
    "\n",
    "mse_tv = mean_squared_error(y, model.predict(x))\n",
    "r2_scoretv = r2_score(y,model.predict(x))\n",
    "\n",
    "print(\"MSE for TV      : {:.4f}\".format(mse_tv))\n",
    "print(\"R2 Score for TV : {:.4f}\".format(r2_scoretv))"
   ]
  },
  {
   "cell_type": "code",
   "execution_count": 6,
   "metadata": {},
   "outputs": [
    {
     "name": "stdout",
     "output_type": "stream",
     "text": [
      "Radio intercept : 9.3116\n",
      "Radio slope     : 0.2025 \n"
     ]
    },
    {
     "data": {
      "image/png": "[encoded data removed]",
      "text/plain": [
       "<Figure size 432x288 with 1 Axes>"
      ]
     },
     "metadata": {
      "needs_background": "light"
     },
     "output_type": "display_data"
    }
   ],
   "source": [
    "x = sales[['radio']]     #convert to 2D\n",
    "y = sales['sales']\n",
    "model.fit(x, y)\n",
    "\n",
    "print(\"Radio intercept : {:.4f}\".format(model.intercept_))\n",
    "print(\"Radio slope     : {:.4f} \".format(model.coef_[0]))\n",
    "\n",
    "sales.plot.scatter(x='radio', y='sales')\n",
    "plt.plot(x, model.predict(x), c='red')\n",
    "plt.show();"
   ]
  },
  {
   "cell_type": "code",
   "execution_count": 7,
   "metadata": {},
   "outputs": [
    {
     "name": "stdout",
     "output_type": "stream",
     "text": [
      "MSE for Radio      : 18.0924\n",
      "R2 Score for Radio : 0.3320\n"
     ]
    }
   ],
   "source": [
    "mse_radio = mean_squared_error(y, model.predict(x))\n",
    "r2_scoreradio = r2_score(y,model.predict(x))\n",
    "\n",
    "print(\"MSE for Radio      : {:.4f}\".format(mse_radio))\n",
    "print(\"R2 Score for Radio : {:.4f}\".format(r2_scoreradio))"
   ]
  },
  {
   "cell_type": "code",
   "execution_count": 8,
   "metadata": {},
   "outputs": [
    {
     "name": "stdout",
     "output_type": "stream",
     "text": [
      "Newspaper intercept : 12.3514\n",
      "Newspaper slope     : 0.0547 \n"
     ]
    },
    {
     "data": {
      "image/png": "[encoded data removed]",
      "text/plain": [
       "<Figure size 432x288 with 1 Axes>"
      ]
     },
     "metadata": {
      "needs_background": "light"
     },
     "output_type": "display_data"
    }
   ],
   "source": [
    "x = sales[['newspaper']]     #convert to 2D\n",
    "y = sales['sales']\n",
    "model.fit(x, y)\n",
    "\n",
    "print(\"Newspaper intercept : {:.4f}\".format(model.intercept_))\n",
    "print(\"Newspaper slope     : {:.4f} \".format(model.coef_[0]))\n",
    "\n",
    "sales.plot.scatter(x='newspaper', y='sales')\n",
    "plt.plot(x, model.predict(x), c='red')\n",
    "plt.show();"
   ]
  },
  {
   "cell_type": "code",
   "execution_count": 9,
   "metadata": {},
   "outputs": [
    {
     "name": "stdout",
     "output_type": "stream",
     "text": [
      "MSE for Newspaper      : 25.6740\n",
      "R2 Score for Newspaper : 0.0521\n"
     ]
    }
   ],
   "source": [
    "mse_news = mean_squared_error(y, model.predict(x))\n",
    "r2_scorenews = r2_score(y,model.predict(x))\n",
    "\n",
    "print(\"MSE for Newspaper      : {:.4f}\".format(mse_news))\n",
    "print(\"R2 Score for Newspaper : {:.4f}\".format(r2_scorenews))"
   ]
  },
  {
   "cell_type": "markdown",
   "metadata": {},
   "source": [
    "## Multilinear Regression"
   ]
  },
  {
   "cell_type": "code",
   "execution_count": 10,
   "metadata": {},
   "outputs": [
    {
     "name": "stdout",
     "output_type": "stream",
     "text": [
      "MLR slope       : [ 0.04576465  0.18853002 -0.00103749]\n",
      "MLR intercept   : 2.9389\n",
      "MSE of MLR      : 2.7841\n",
      "R2 Score of MLR : 0.8972\n"
     ]
    }
   ],
   "source": [
    "X = sales[['TV', 'radio','newspaper']]\n",
    "y = sales['sales']\n",
    "\n",
    "model.fit(X,y)\n",
    "\n",
    "print(\"MLR slope       :\",model.coef_[:3])\n",
    "print(\"MLR intercept   : {:.4f}\".format(model.intercept_))\n",
    "print(\"MSE of MLR      : {:.4f}\".format(mean_squared_error(y,model.predict(X))))\n",
    "print(\"R2 Score of MLR : {:.4f}\".format(r2_score(y,model.predict(X))))"
   ]
  },
  {
   "cell_type": "markdown",
   "metadata": {},
   "source": [
    "Introduce Features Scaling"
   ]
  },
  {
   "cell_type": "code",
   "execution_count": 11,
   "metadata": {},
   "outputs": [
    {
     "data": {
      "text/plain": [
       "array([[ 0.94867429,  0.96224689,  1.51433531],\n",
       "       [-1.19131426,  1.0401788 ,  0.78768252],\n",
       "       [-1.6477566 ,  1.37070964,  1.51699753],\n",
       "       [ 0.14102023,  1.14238689,  1.21465643]])"
      ]
     },
     "execution_count": 11,
     "metadata": {},
     "output_type": "execute_result"
    }
   ],
   "source": [
    "from sklearn.preprocessing import PowerTransformer\n",
    "\n",
    "scaled_X = PowerTransformer().fit(X)\n",
    "scaled_X = scaled_X.transform(X)\n",
    "scaled_X[:4,:]\n"
   ]
  },
  {
   "cell_type": "code",
   "execution_count": 12,
   "metadata": {},
   "outputs": [
    {
     "name": "stdout",
     "output_type": "stream",
     "text": [
      "MSE of MLR      : 2.5064\n",
      "R2 Score of MLR : 0.9075\n",
      "TV MLR          : 3.9708\n",
      "Radio MLR       : 2.7642\n",
      "Newspaper MLR   : 0.0643\n"
     ]
    }
   ],
   "source": [
    "model_scaled = model.fit(scaled_X,y)\n",
    "\n",
    "r2score = r2_score(y, model_scaled.predict(scaled_X))\n",
    "mse_mlr = mean_squared_error(y, model_scaled.predict(scaled_X))\n",
    "\n",
    "print(\"MSE of MLR      : {:.4f}\".format(mse_mlr))\n",
    "print(\"R2 Score of MLR : {:.4f}\".format(r2score))\n",
    "print(\"TV MLR          : {:.4f}\".format(model_scaled.coef_[0]))\n",
    "print(\"Radio MLR       : {:.4f}\".format(model_scaled.coef_[1]))\n",
    "print(\"Newspaper MLR   : {:.4f}\".format(model_scaled.coef_[2]))\n"
   ]
  },
  {
   "cell_type": "markdown",
   "metadata": {},
   "source": [
    "The model give better prediction after scaling"
   ]
  },
  {
   "cell_type": "code",
   "execution_count": null,
   "metadata": {},
   "outputs": [],
   "source": []
  }
 ],
 "metadata": {
  "kernelspec": {
   "display_name": "Python 3",
   "language": "python",
   "name": "python3"
  },
  "language_info": {
   "codemirror_mode": {
    "name": "ipython",
    "version": 3
   },
   "file_extension": ".py",
   "mimetype": "text/x-python",
   "name": "python",
   "nbconvert_exporter": "python",
   "pygments_lexer": "ipython3",
   "version": "3.7.0"
  }
 },
 "nbformat": 4,
 "nbformat_minor": 2
}
